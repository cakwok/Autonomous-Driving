{
 "cells": [
  {
   "cell_type": "markdown",
   "metadata": {
    "editable": false
   },
   "source": [
    "## Initialize Priors Function\n",
    "\n",
    "In this quiz we will create a function that initializes priors (initial belief state for each position on the map) given landmark positions, a position standard deviation (+/- 1.0), and the assumption that our car is parked next to a landmark.\n",
    "\n",
    "Note that the control standard deviation represents the spread from movement (movement is the result of our control input in this case). We input a control of moving 1 step but our actual movement could be in the range of 1 +/- control standard deviation. The position standard deviation is the spread in our actual position. For example, we may believe start at a particular location, but we could be anywhere in that location +/- our position standard deviation.\n",
    "\n",
    "Once you implement your solution in the editor on the right, you can compile and run your code with the button below, and see the results in the terminal."
   ]
  },
  {
   "cell_type": "markdown",
   "metadata": {
    "editable": false,
    "ulab": {
     "buttons": {
      "ulab-button-ee1c9308": {
       "bashCommand": "cd /home/workspace/markov/1-initialize-priors-function && g++ main.cpp  && ./a.out",
       "filesToOpen": [],
       "isPreviewButton": false,
       "runInBackground": false,
       "style": "primary",
       "text": "COMPILE & RUN",
       "toggleOffText": "HIDE SOLUTION",
       "toggleOnText": "SHOW SOLUTION"
      }
     }
    }
   },
   "source": [
    "<button id=\"ulab-button-ee1c9308\" class=\"ulab-btn--primary\"></button>\n",
    "\n",
    "Expected result:\n",
    "\n",
    "```pseudo\n",
    "0\n",
    "0\n",
    "0\n",
    "0\n",
    "0.111111\n",
    "0.111111\n",
    "0.111111\n",
    "0\n",
    "0\n",
    "0.111111\n",
    "0.111111\n",
    "0.111111\n",
    "0\n",
    "0\n",
    "0\n",
    "0\n",
    "0\n",
    "0\n",
    "0\n",
    "0.111111\n",
    "0.111111\n",
    "0.111111\n",
    "0\n",
    "0\n",
    "0\n",
    "```"
   ]
  },
  {
   "cell_type": "markdown",
   "metadata": {
    "editable": false
   },
   "source": [
    "<!--\n",
    "%%ulab_page_divider\n",
    "--><hr/>"
   ]
  },
  {
   "cell_type": "markdown",
   "metadata": {
    "editable": false,
    "ulab": {
     "buttons": {
      "ulab-button-cd8f4b0b": {
       "bashCommand": "cd /home/workspace/markov/1-initialize-priors-function/solution && g++ main.cpp  && ./a.out",
       "filesToOpen": [],
       "isPreviewButton": false,
       "runInBackground": false,
       "style": "primary",
       "text": "COMPILE & RUN",
       "toggleOffText": "HIDE SOLUTION",
       "toggleOnText": "SHOW SOLUTION"
      }
     }
    }
   },
   "source": [
    "## Solution: Initialize Priors Function\n",
    "\n",
    "There is more than on way to initialize priors; on the right is one possible approach.\n",
    "\n",
    "You can compile and run the solution code with the button below, and see the results in the terminal.\n",
    "\n",
    "<button id=\"ulab-button-cd8f4b0b\" class=\"ulab-btn--primary\"></button>"
   ]
  },
  {
   "cell_type": "markdown",
   "metadata": {
    "editable": false
   },
   "source": [
    "For simplicity we assumed a position standard deviation of 1.0 and coded a solution for initializing priors accordingly. A more robust approach would be to create a function that accepts a position standard deviation as an argument and adjusts initialization and normalization based on its value."
   ]
  },
  {
   "cell_type": "markdown",
   "metadata": {
    "editable": false
   },
   "source": [
    "<!--\n",
    "%%ulab_page_divider\n",
    "--><hr/>"
   ]
  },
  {
   "cell_type": "markdown",
   "metadata": {
    "editable": false,
    "ulab": {
     "buttons": {
      "ulab-button-e1cf59ee": {
       "bashCommand": "cd /home/workspace/markov/2-determine-probabilities && g++ main.cpp  && ./a.out",
       "filesToOpen": [],
       "isPreviewButton": false,
       "runInBackground": false,
       "style": "primary",
       "text": "COMPILE & RUN",
       "toggleOffText": "HIDE SOLUTION",
       "toggleOnText": "SHOW SOLUTION"
      }
     }
    }
   },
   "source": [
    "## Determine Probabilities\n",
    "\n",
    "Practice using `normpdf` in this workspace, setting a `value` to maximize the probability when given a parameter of 1.0. You may want to expand or shrink the workspace in the bottom left of the window.\n",
    "\n",
    "Once you implement your solution in the editor on the right, you can compile and run your code with the button below, and see the results in the terminal.\n",
    "\n",
    "<button id=\"ulab-button-e1cf59ee\" class=\"ulab-btn--primary\"></button>"
   ]
  },
  {
   "cell_type": "markdown",
   "metadata": {
    "editable": false,
    "toggleable": true,
    "ulab": {
     "buttons": {
      "ulab-button-toggle-33a38e5a": {
       "style": "primary"
      }
     }
    }
   },
   "source": [
    "```cpp\n",
    "float value = 1.0;\n",
    "```\n",
    "\n",
    "Our value will always be maximized when our  parameter and value are equal.  In this case our control value is 1 (move 1 unit per time step), generally speaking we will see our maximum probability at x - control_parameter."
   ]
  },
  {
   "cell_type": "markdown",
   "metadata": {
    "editable": false
   },
   "source": [
    "<!--\n",
    "%%ulab_page_divider\n",
    "--><hr/>"
   ]
  },
  {
   "cell_type": "markdown",
   "metadata": {
    "editable": false,
    "ulab": {
     "buttons": {
      "ulab-button-b9ba26cf": {
       "bashCommand": "cd /home/workspace/markov/3-motion-model-probability-ii && g++ main.cpp  && ./a.out",
       "filesToOpen": [],
       "isPreviewButton": false,
       "runInBackground": false,
       "style": "primary",
       "text": "COMPILE & RUN",
       "toggleOffText": "HIDE SOLUTION",
       "toggleOnText": "SHOW SOLUTION"
      }
     }
    }
   },
   "source": [
    "## Motion Model Probability II\n",
    "\n",
    "Use this workspace to help with the quizzes above. You may want to expand or shrink the workspace in the bottom left of the window.\n",
    "\n",
    "Once you implement your solution in the editor on the right, you can compile and run your code with the button below, and see the results in the terminal.\n",
    "\n",
    "<button id=\"ulab-button-b9ba26cf\" class=\"ulab-btn--primary\"></button>"
   ]
  },
  {
   "cell_type": "markdown",
   "metadata": {
    "editable": false,
    "toggleable": true,
    "ulab": {
     "buttons": {
      "ulab-button-toggle-e2f15dc7": {
       "style": "primary"
      }
     }
    }
   },
   "source": [
    "```cpp\n",
    "float value = 2.0;\n",
    "```\n",
    "\n",
    "We should assign our value as 2 (7 - 5)."
   ]
  },
  {
   "cell_type": "markdown",
   "metadata": {
    "editable": false
   },
   "source": [
    "<!--\n",
    "%%ulab_page_divider\n",
    "--><hr/>"
   ]
  },
  {
   "cell_type": "markdown",
   "metadata": {
    "editable": false,
    "ulab": {
     "buttons": {
      "ulab-button-1e59e25a": {
       "bashCommand": "cd /home/workspace/markov/4-coding-the-motion-model && g++ main.cpp  && ./a.out",
       "filesToOpen": [],
       "isPreviewButton": false,
       "runInBackground": false,
       "style": "primary",
       "text": "COMPILE & RUN",
       "toggleOffText": "HIDE SOLUTION",
       "toggleOnText": "SHOW SOLUTION"
      }
     }
    }
   },
   "source": [
    "## Coding the Motion Model\n",
    "\n",
    "Now that we have manually calculated each step for determining the motion model probability, we will implement these steps in a function. The starter code in the editor steps through each position x, calls the `motion_model` function and prints the results to `stdout`.  To complete this exercise fill in the `motion_model` function which will involve:\n",
    "\n",
    "- For each $x_{t}$:\n",
    "\n",
    "    + Calculate the transition probability for each potential value $x_{t-1}$\n",
    "    + Calculate the discrete motion model probability by multiplying the transition model probability by the belief state (prior) for $x_{t-1}$ \n",
    "- Return total probability (sum)  of each discrete probability\n",
    "\n",
    "Once you implement your solution in the editor on the right, you can compile and run your code with the button below, and see the results in the terminal.\n",
    "\n",
    "<button id=\"ulab-button-1e59e25a\" class=\"ulab-btn--primary\"></button>\n",
    "\n",
    "Expected result:\n",
    "\n",
    "```pseudo\n",
    "0       1.65867e-07\n",
    "1       1.50359e-05\n",
    "2       0.000507463\n",
    "3       0.00650629\n",
    "4       0.0333771\n",
    "5       0.0772117\n",
    "6       0.0981132\n",
    "7       0.077719\n",
    "8       0.0398834\n",
    "9       0.0398834\n",
    "10      0.077719\n",
    "11      0.0981132\n",
    "12      0.0772117\n",
    "13      0.0333771\n",
    "14      0.00650629\n",
    "15      0.000507629\n",
    "16      3.00718e-05\n",
    "17      0.000507629\n",
    "18      0.00650629\n",
    "19      0.0333771\n",
    "20      0.0772116\n",
    "21      0.0980982\n",
    "22      0.0772116\n",
    "23      0.0333771\n",
    "24      0.00650629\n",
    "```"
   ]
  },
  {
   "cell_type": "markdown",
   "metadata": {
    "editable": false
   },
   "source": [
    "<!--\n",
    "%%ulab_page_divider\n",
    "--><hr/>"
   ]
  },
  {
   "cell_type": "markdown",
   "metadata": {
    "editable": false,
    "ulab": {
     "buttons": {
      "ulab-button-488f7fd3": {
       "bashCommand": "cd /home/workspace/markov/4-coding-the-motion-model/solution && g++ main.cpp  && ./a.out",
       "filesToOpen": [],
       "isPreviewButton": false,
       "runInBackground": false,
       "style": "primary",
       "text": "COMPILE & RUN",
       "toggleOffText": "HIDE SOLUTION",
       "toggleOnText": "SHOW SOLUTION"
      }
     }
    }
   },
   "source": [
    "## Solution: Coding the Motion Model\n",
    "\n",
    "Here is one possible implementation of the motion model.\n",
    "\n",
    "You can compile and run the solution code with the button below, and see the results in the terminal.\n",
    "\n",
    "<button id=\"ulab-button-488f7fd3\" class=\"ulab-btn--primary\"></button>"
   ]
  },
  {
   "cell_type": "markdown",
   "metadata": {
    "editable": false
   },
   "source": [
    "<!--\n",
    "%%ulab_page_divider\n",
    "--><hr/>"
   ]
  },
  {
   "cell_type": "markdown",
   "metadata": {
    "editable": false,
    "ulab": {
     "buttons": {
      "ulab-button-e7308db8": {
       "bashCommand": "cd /home/workspace/markov/5-observation-model-probability && g++ main.cpp  && ./a.out",
       "filesToOpen": [],
       "isPreviewButton": false,
       "runInBackground": false,
       "style": "primary",
       "text": "COMPILE & RUN",
       "toggleOffText": "HIDE SOLUTION",
       "toggleOnText": "SHOW SOLUTION"
      }
     }
    }
   },
   "source": [
    "## Observation Model Probability\n",
    "\n",
    "Use this workspace to help with the quizzes above **and** below. You may want to expand or shrink the workspace in the bottom left of the window.\n",
    "\n",
    "Once you implement your solution in the editor on the right, you can compile and run your code with the button below, and see the results in the terminal.\n",
    "\n",
    "<button id=\"ulab-button-e7308db8\" class=\"ulab-btn--primary\"></button>"
   ]
  },
  {
   "cell_type": "markdown",
   "metadata": {
    "editable": false,
    "toggleable": true,
    "ulab": {
     "buttons": {
      "ulab-button-toggle-0bb963dc": {
       "style": "primary"
      }
     }
    }
   },
   "source": [
    "Use the following with `norm_pdf` pressing \"test run\" to return each probability.\n",
    "\n",
    "```cpp\n",
    "float value = 5.5; //TODO: assign a value, the difference in distances\n",
    "float parameter = 5; //set as control parameter or observation measurement\n",
    "float stdev = 1.0; //position or observation standard deviation\n",
    "```\n",
    "and \n",
    "\n",
    "```cpp\n",
    "float value = 11; //TODO: assign a value, the difference in distances\n",
    "float parameter = 11; //set as control parameter or observation measurement\n",
    "float stdev = 1.0; //position or observation standard deviation\n",
    "```\n",
    "\n",
    "### Result in vector form\n",
    "\n",
    "[3.99E-1,3.52E-1]  Please note that the grader allows any order and allows for slight differences in precision."
   ]
  },
  {
   "cell_type": "markdown",
   "metadata": {
    "editable": false
   },
   "source": [
    "<!--\n",
    "%%ulab_page_divider\n",
    "--><hr/>"
   ]
  },
  {
   "cell_type": "markdown",
   "metadata": {
    "editable": false,
    "ulab": {
     "buttons": {
      "ulab-button-894936c7": {
       "bashCommand": "cd /home/workspace/markov/6-get-pseudo-ranges && g++ main.cpp  && ./a.out",
       "filesToOpen": [],
       "isPreviewButton": false,
       "runInBackground": false,
       "style": "primary",
       "text": "COMPILE & RUN",
       "toggleOffText": "HIDE SOLUTION",
       "toggleOnText": "SHOW SOLUTION"
      }
     }
    }
   },
   "source": [
    "## Get Pseudo Ranges\n",
    "\n",
    "In the previous exercises we manually executed the steps for determining pseudo ranges and our observation model probability.  Now let's implement a function that accepts a vector of landmark positions, a pseudo position (x), and returns a vector of sorted (ascending) pseudo ranges.  Later, we will use the pseudo range vector as an input for our observation model function.\n",
    "\n",
    "To implement the ```pseudo_range_estimator``` function we must do the following for each pseudo position x:\n",
    "\n",
    "- For each landmark position:\n",
    "    + determine the distance between each pseudo position x and each landmark position\n",
    "    + if the distance is positive (landmark is forward of the pseudo position) push the distance to the pseudo range vector\n",
    "    + sort the pseudo range vector in ascending order\n",
    "    + return the pseudo range vector\n",
    "\n",
    "There may be missing x values in the output.  This is because not all x values have a forward landmark (positive pseudo range).\n",
    "\n",
    "Once you implement your solution in the editor on the right, you can compile and run your code with the button below, and see the results in the terminal.\n",
    "\n",
    "<button id=\"ulab-button-894936c7\" class=\"ulab-btn--primary\"></button>\n",
    "\n",
    "Expected result:\n",
    "\n",
    "```pseudo\n",
    "x: 0    5\n",
    "x: 0    10\n",
    "x: 0    12\n",
    "x: 0    20\n",
    "-----------------------\n",
    "x: 1    4\n",
    "x: 1    9\n",
    "x: 1    11\n",
    "x: 1    19\n",
    "-----------------------\n",
    "x: 2    3\n",
    "x: 2    8\n",
    "x: 2    10\n",
    "x: 2    18\n",
    "-----------------------\n",
    "x: 3    2\n",
    "x: 3    7\n",
    "x: 3    9\n",
    "x: 3    17\n",
    "-----------------------\n",
    "x: 4    1\n",
    "x: 4    6\n",
    "x: 4    8\n",
    "x: 4    16\n",
    "-----------------------\n",
    "x: 5    5\n",
    "x: 5    7\n",
    "x: 5    15\n",
    "-----------------------\n",
    "x: 6    4\n",
    "x: 6    6\n",
    "x: 6    14\n",
    "-----------------------\n",
    "x: 7    3\n",
    "x: 7    5\n",
    "x: 7    13\n",
    "-----------------------\n",
    "x: 8    2\n",
    "x: 8    4\n",
    "x: 8    12\n",
    "-----------------------\n",
    "x: 9    1\n",
    "x: 9    3\n",
    "x: 9    11\n",
    "-----------------------\n",
    "x: 10   2\n",
    "x: 10   10\n",
    "-----------------------\n",
    "x: 11   1\n",
    "x: 11   9\n",
    "-----------------------\n",
    "x: 12   8\n",
    "-----------------------\n",
    "x: 13   7\n",
    "-----------------------\n",
    "x: 14   6\n",
    "-----------------------\n",
    "x: 15   5\n",
    "-----------------------\n",
    "x: 16   4\n",
    "-----------------------\n",
    "x: 17   3\n",
    "-----------------------\n",
    "x: 18   2\n",
    "-----------------------\n",
    "x: 19   1\n",
    "-----------------------\n",
    "```"
   ]
  },
  {
   "cell_type": "markdown",
   "metadata": {
    "editable": false
   },
   "source": [
    "<!--\n",
    "%%ulab_page_divider\n",
    "--><hr/>"
   ]
  },
  {
   "cell_type": "markdown",
   "metadata": {
    "editable": false,
    "ulab": {
     "buttons": {
      "ulab-button-50184e86": {
       "bashCommand": "cd /home/workspace/markov/6-get-pseudo-ranges/solution && g++ main.cpp  && ./a.out",
       "filesToOpen": [],
       "isPreviewButton": false,
       "runInBackground": false,
       "style": "primary",
       "text": "COMPILE & RUN",
       "toggleOffText": "HIDE SOLUTION",
       "toggleOnText": "SHOW SOLUTION"
      }
     }
    }
   },
   "source": [
    "## Solution: Get Pseudo Ranges\n",
    "\n",
    "To the right is one possible implementation of the `pseudo_range_estimator` function.\n",
    "\n",
    "You can compile and run the solution code with the button below, and see the results in the terminal.\n",
    "\n",
    "<button id=\"ulab-button-50184e86\" class=\"ulab-btn--primary\"></button>"
   ]
  },
  {
   "cell_type": "markdown",
   "metadata": {
    "editable": false
   },
   "source": [
    "<!--\n",
    "%%ulab_page_divider\n",
    "--><hr/>"
   ]
  },
  {
   "cell_type": "markdown",
   "metadata": {
    "editable": false,
    "ulab": {
     "buttons": {
      "ulab-button-db9c7fc3": {
       "bashCommand": "cd /home/workspace/markov/7-coding-the-observation-model && g++ main.cpp  && ./a.out",
       "filesToOpen": [],
       "isPreviewButton": false,
       "runInBackground": false,
       "style": "primary",
       "text": "COMPILE & RUN",
       "toggleOffText": "HIDE SOLUTION",
       "toggleOnText": "SHOW SOLUTION"
      }
     }
    }
   },
   "source": [
    "## Coding the Observation Model\n",
    "\n",
    "The final individual model we will implement is the observation model.  The observation model accepts the pseudo range vector from the previous assignment, an observation vector (from vehicle sensors), and returns the observation model probability.  Ultimately, we will multiply this by the motion model probability, then normalize to produce the belief state for the current time step.\n",
    "\n",
    "The starter code below steps through each pseudo position x, calls the ```observation_model```  function and prints the results to standout. To complete this exercise fill in the ```observation_model function```.\n",
    "\n",
    "To implement the observation_model function we must do the following for each pseudo position x:\n",
    "\n",
    "- For each observation:\n",
    "    + determine if a pseudo range vector exists for the current pseudo position x\n",
    "    + if the vector exists, extract and store the minimum distance, element 0 of the sorted vector, and remove that element (so we don't re-use it).  This will be passed to ```norm_pdf```\n",
    "    + if the pseudo range vector does not exist,  pass the maximum distance to ```norm_pdf```\n",
    "    + use ```norm_pdf``` to determine the observation model probability\n",
    "    + return the total probability \n",
    "\n",
    "Once you implement your solution in the editor on the right, you can compile and run your code with the button below, and see the results in the terminal.\n",
    "\n",
    "<button id=\"ulab-button-db9c7fc3\" class=\"ulab-btn--primary\"></button>\n",
    "\n",
    "Expected result:\n",
    "\n",
    "```pseudo\n",
    "6.91501e-06\n",
    "2.31973e-09\n",
    "3.87434e-14\n",
    "3.22163e-20\n",
    "1.33373e-27\n",
    "8.53381e-10\n",
    "2.86277e-13\n",
    "4.78132e-18\n",
    "3.9758e-24\n",
    "1.64596e-31\n",
    "0\n",
    "0\n",
    "0\n",
    "0\n",
    "0\n",
    "0\n",
    "0\n",
    "0\n",
    "0\n",
    "0\n",
    "0\n",
    "0\n",
    "0\n",
    "0\n",
    "0\n",
    "```"
   ]
  },
  {
   "cell_type": "markdown",
   "metadata": {
    "editable": false
   },
   "source": [
    "<!--\n",
    "%%ulab_page_divider\n",
    "--><hr/>"
   ]
  },
  {
   "cell_type": "markdown",
   "metadata": {
    "editable": false,
    "ulab": {
     "buttons": {
      "ulab-button-76b891af": {
       "bashCommand": "cd /home/workspace/markov/7-coding-the-observation-model/solution && g++ main.cpp  && ./a.out",
       "filesToOpen": [],
       "isPreviewButton": false,
       "runInBackground": false,
       "style": "primary",
       "text": "COMPILE & RUN",
       "toggleOffText": "HIDE SOLUTION",
       "toggleOnText": "SHOW SOLUTION"
      }
     }
    }
   },
   "source": [
    "## Solution: Coding the Observation Model\n",
    "\n",
    "To the right is one possible implementation of the observation model.\n",
    "\n",
    "You can compile and run the solution code with the button below, and see the results in the terminal.\n",
    "\n",
    "<button id=\"ulab-button-76b891af\" class=\"ulab-btn--primary\"></button>"
   ]
  },
  {
   "cell_type": "markdown",
   "metadata": {
    "editable": false
   },
   "source": [
    "<!--\n",
    "%%ulab_page_divider\n",
    "--><hr/>"
   ]
  },
  {
   "cell_type": "markdown",
   "metadata": {
    "editable": false,
    "ulab": {
     "buttons": {
      "ulab-button-7f92ba55": {
       "bashCommand": "cd /home/workspace/markov/8-coding-the-full-filter && g++ main.cpp  && ./a.out",
       "filesToOpen": [],
       "isPreviewButton": false,
       "runInBackground": false,
       "style": "primary",
       "text": "COMPILE & RUN",
       "toggleOffText": "HIDE SOLUTION",
       "toggleOnText": "SHOW SOLUTION"
      }
     }
    }
   },
   "source": [
    "## Coding the Full Filter\n",
    "\n",
    "In previous lessons we learned the basis of our filter, tried some example calculations by hand, and implemented critical steps and models for a single time step and vector of sensor observations.  In this final coding exercise we will implement the entire filter using the pieces we have already developed for multiple time steps and sensor observations.  \n",
    "\n",
    "Sensor observations are provided in a 2D vector where each inner vector represents the sensor observations, in meters, at a time step.\n",
    "\n",
    "```\n",
    "{{1,7,12,21}, {0,6,11,20}, {5,10,19}, {4,9,18}, {3,8,17}, {2,7,16}, \n",
    "{1,6,15}, {0,5,14}, {4,13}, {3,12},{2,11},{1,10},{0,9},{8},{7},{6},{5},\n",
    "{4},{3},{2},{1},{0}, {}, {}, {}};\n",
    "```\n",
    "\n",
    "Implement the Bayes' localization filter by first initializing priors, then doing the following within each time step:\n",
    "\n",
    "- extract sensor observations\n",
    "    - for each pseudo-position:\n",
    "        + get the motion model probability\n",
    "        + determine pseudo ranges\n",
    "        + get the observation model probability\n",
    "        + use the motion and observation model probabilities to calculate the posterior probability\n",
    "\n",
    " - normalize posteriors (see helpers.h for a normalization function)\n",
    " - update priors (priors --> posteriors)\n",
    "\n",
    "\n",
    "**All tasks are within the main function and are labeled as ```TODO```.**\n",
    "\n",
    "**Troubleshooting:**\n",
    "\n",
    "To help troubleshoot print statements have been placed throughout the code below and commented out.  Uncommenting these statements will help to follow each step of the filter.\n",
    "\n",
    "Once you implement your solution in the editor on the right, you can compile and run your code with the button below, and see the results in the terminal.\n",
    "\n",
    "<button id=\"ulab-button-7f92ba55\" class=\"ulab-btn--primary\"></button>\n",
    "\n",
    "Expected result (it's long!):"
   ]
  },
  {
   "cell_type": "markdown",
   "metadata": {
    "editable": false,
    "toggleable": true,
    "ulab": {
     "buttons": {
      "ulab-button-7f92ba55": {
       "bashCommand": "cd /home/workspace/markov/8-coding-the-full-filter && g++ main.cpp  && ./a.out",
       "filesToOpen": [],
       "isPreviewButton": false,
       "runInBackground": false,
       "style": "primary",
       "text": "COMPILE & RUN",
       "toggleOffText": "HIDE SOLUTION",
       "toggleOnText": "SHOW SOLUTION"
      },
      "ulab-button-toggle-25675a35": {
       "style": "primary"
      }
     }
    }
   },
   "source": [
    "```pseudo\n",
    "4.96923e-06\n",
    "0.0257031\n",
    "0.974292\n",
    "0\n",
    "0\n",
    "0\n",
    "0\n",
    "0\n",
    "0\n",
    "0\n",
    "0\n",
    "0\n",
    "0\n",
    "0\n",
    "0\n",
    "0\n",
    "0\n",
    "0\n",
    "0\n",
    "0\n",
    "0\n",
    "0\n",
    "0\n",
    "0\n",
    "0\n",
    "2.60905e-09\n",
    "0.000592363\n",
    "0.999408\n",
    "0\n",
    "0\n",
    "0\n",
    "0\n",
    "0\n",
    "0\n",
    "0\n",
    "0\n",
    "0\n",
    "0\n",
    "0\n",
    "0\n",
    "0\n",
    "0\n",
    "0\n",
    "0\n",
    "0\n",
    "0\n",
    "0\n",
    "0\n",
    "0\n",
    "0\n",
    "3.97979e-09\n",
    "3.61265e-12\n",
    "6.02363e-17\n",
    "0.259533\n",
    "0.705322\n",
    "0.035113\n",
    "3.20179e-05\n",
    "5.34748e-10\n",
    "1.6358e-16\n",
    "0\n",
    "0\n",
    "0\n",
    "0\n",
    "0\n",
    "0\n",
    "0\n",
    "0\n",
    "0\n",
    "0\n",
    "0\n",
    "0\n",
    "0\n",
    "0\n",
    "0\n",
    "0\n",
    "1.58625e-08\n",
    "8.29523e-10\n",
    "8.55201e-13\n",
    "0.000545639\n",
    "0.134222\n",
    "0.768382\n",
    "0.0965923\n",
    "0.000257819\n",
    "1.51261e-08\n",
    "0\n",
    "0\n",
    "0\n",
    "0\n",
    "0\n",
    "0\n",
    "0\n",
    "0\n",
    "0\n",
    "0\n",
    "0\n",
    "0\n",
    "0\n",
    "0\n",
    "0\n",
    "0\n",
    "4.03777e-09\n",
    "9.33827e-09\n",
    "4.74246e-10\n",
    "3.15532e-08\n",
    "0.00039422\n",
    "0.116445\n",
    "0.772576\n",
    "0.110238\n",
    "0.000346384\n",
    "0\n",
    "0\n",
    "0\n",
    "0\n",
    "0\n",
    "0\n",
    "0\n",
    "0\n",
    "0\n",
    "0\n",
    "0\n",
    "0\n",
    "0\n",
    "0\n",
    "0\n",
    "0\n",
    "6.59507e-11\n",
    "3.36587e-09\n",
    "8.00903e-09\n",
    "5.15178e-14\n",
    "2.86685e-08\n",
    "0.000372268\n",
    "0.113759\n",
    "0.773132\n",
    "0.112736\n",
    "0\n",
    "0\n",
    "0\n",
    "0\n",
    "0\n",
    "0\n",
    "0\n",
    "0\n",
    "0\n",
    "0\n",
    "0\n",
    "0\n",
    "0\n",
    "0\n",
    "0\n",
    "0\n",
    "5.17626e-13\n",
    "6.74172e-11\n",
    "3.67185e-09\n",
    "2.23948e-21\n",
    "5.68885e-14\n",
    "3.18278e-08\n",
    "0.000415921\n",
    "0.127788\n",
    "0.871796\n",
    "0\n",
    "0\n",
    "0\n",
    "0\n",
    "0\n",
    "0\n",
    "0\n",
    "0\n",
    "0\n",
    "0\n",
    "0\n",
    "0\n",
    "0\n",
    "0\n",
    "0\n",
    "0\n",
    "1.27331e-15\n",
    "3.39679e-12\n",
    "4.39831e-10\n",
    "1.521e-29\n",
    "1.7861e-20\n",
    "4.54012e-13\n",
    "2.53897e-07\n",
    "0.00330255\n",
    "0.996697\n",
    "0\n",
    "0\n",
    "0\n",
    "0\n",
    "0\n",
    "0\n",
    "0\n",
    "0\n",
    "0\n",
    "0\n",
    "0\n",
    "0\n",
    "0\n",
    "0\n",
    "0\n",
    "0\n",
    "1.06423e-15\n",
    "3.04313e-17\n",
    "5.69753e-20\n",
    "5.01948e-10\n",
    "3.18062e-08\n",
    "1.21777e-07\n",
    "2.54718e-08\n",
    "2.76023e-10\n",
    "1.51252e-13\n",
    "0.359417\n",
    "0.591827\n",
    "0.0485574\n",
    "0.000198409\n",
    "4.03674e-08\n",
    "0\n",
    "0\n",
    "0\n",
    "0\n",
    "0\n",
    "0\n",
    "0\n",
    "0\n",
    "0\n",
    "0\n",
    "0\n",
    "2.50909e-15\n",
    "2.6519e-15\n",
    "1.81924e-16\n",
    "3.14366e-11\n",
    "6.0096e-10\n",
    "7.66578e-09\n",
    "3.21831e-08\n",
    "7.39371e-09\n",
    "8.88423e-11\n",
    "0.00426846\n",
    "0.208127\n",
    "0.654985\n",
    "0.130994\n",
    "0.0016257\n",
    "0\n",
    "0\n",
    "0\n",
    "0\n",
    "0\n",
    "0\n",
    "0\n",
    "0\n",
    "0\n",
    "0\n",
    "0\n",
    "9.33033e-16\n",
    "4.98773e-15\n",
    "2.13145e-15\n",
    "5.06716e-14\n",
    "9.65105e-12\n",
    "4.05503e-10\n",
    "1.16344e-08\n",
    "3.08752e-08\n",
    "5.40411e-09\n",
    "3.61239e-06\n",
    "0.00310617\n",
    "0.176965\n",
    "0.662268\n",
    "0.157658\n",
    "0\n",
    "0\n",
    "0\n",
    "0\n",
    "0\n",
    "0\n",
    "0\n",
    "0\n",
    "0\n",
    "0\n",
    "0\n",
    "9.96382e-17\n",
    "7.32697e-16\n",
    "3.06329e-15\n",
    "2.04428e-17\n",
    "6.16749e-14\n",
    "1.38359e-11\n",
    "4.56802e-10\n",
    "1.10144e-08\n",
    "2.97928e-08\n",
    "2.69405e-10\n",
    "3.76161e-06\n",
    "0.00338892\n",
    "0.202992\n",
    "0.793615\n",
    "0\n",
    "0\n",
    "0\n",
    "0\n",
    "0\n",
    "0\n",
    "0\n",
    "0\n",
    "0\n",
    "0\n",
    "0\n",
    "8.39579e-18\n",
    "3.31886e-16\n",
    "3.14888e-15\n",
    "2.89205e-21\n",
    "9.49946e-17\n",
    "2.64877e-13\n",
    "5.72754e-11\n",
    "2.00998e-09\n",
    "5.18622e-08\n",
    "5.90813e-15\n",
    "1.30686e-09\n",
    "1.84285e-05\n",
    "0.0166834\n",
    "0.983298\n",
    "0\n",
    "0\n",
    "0\n",
    "0\n",
    "0\n",
    "0\n",
    "0\n",
    "0\n",
    "0\n",
    "0\n",
    "0\n",
    "2.46782e-22\n",
    "7.56793e-24\n",
    "4.60625e-26\n",
    "3.56402e-15\n",
    "1.33435e-14\n",
    "1.24514e-14\n",
    "2.56623e-15\n",
    "1.02534e-16\n",
    "2.0845e-18\n",
    "8.23892e-08\n",
    "1.35314e-07\n",
    "3.83043e-08\n",
    "1.69934e-09\n",
    "1.09374e-11\n",
    "0.469448\n",
    "0.466424\n",
    "0.0629731\n",
    "0.00115238\n",
    "2.85554e-06\n",
    "9.57811e-10\n",
    "4.34827e-14\n",
    "2.67162e-19\n",
    "2.22152e-25\n",
    "0\n",
    "0\n",
    "2.67583e-22\n",
    "1.05275e-22\n",
    "6.19044e-24\n",
    "1.59574e-15\n",
    "1.26775e-15\n",
    "2.36529e-15\n",
    "6.05038e-15\n",
    "2.29283e-15\n",
    "1.23632e-16\n",
    "6.57506e-09\n",
    "1.37025e-08\n",
    "3.42474e-08\n",
    "1.28193e-08\n",
    "6.70339e-10\n",
    "0.0302065\n",
    "0.295519\n",
    "0.505558\n",
    "0.15928\n",
    "0.00933237\n",
    "0.000103597\n",
    "2.18136e-07\n",
    "8.60498e-11\n",
    "6.4388e-15\n",
    "0\n",
    "0\n",
    "3.87273e-21\n",
    "3.9314e-21\n",
    "5.55158e-22\n",
    "7.53626e-16\n",
    "1.1167e-15\n",
    "2.55238e-15\n",
    "1.62337e-14\n",
    "1.68361e-14\n",
    "2.53532e-15\n",
    "2.61992e-09\n",
    "1.19419e-08\n",
    "8.08769e-08\n",
    "9.45181e-08\n",
    "1.81345e-08\n",
    "0.000458673\n",
    "0.0244208\n",
    "0.251322\n",
    "0.507683\n",
    "0.200358\n",
    "0.0155199\n",
    "0.000236816\n",
    "7.07028e-07\n",
    "4.16375e-10\n",
    "0\n",
    "0\n",
    "2.26995e-20\n",
    "6.28218e-20\n",
    "2.4966e-20\n",
    "2.51355e-16\n",
    "1.29234e-15\n",
    "6.0491e-15\n",
    "8.21077e-14\n",
    "2.39753e-13\n",
    "1.11439e-13\n",
    "2.6737e-09\n",
    "9.37527e-09\n",
    "2.83234e-08\n",
    "1.03095e-07\n",
    "9.0867e-08\n",
    "1.41721e-06\n",
    "0.000394239\n",
    "0.0216663\n",
    "0.235407\n",
    "0.507926\n",
    "0.216072\n",
    "0.0182271\n",
    "0.000304622\n",
    "1.0049e-06\n",
    "0\n",
    "0\n",
    "4.37492e-20\n",
    "2.89402e-19\n",
    "3.64199e-19\n",
    "3.69519e-17\n",
    "1.13027e-15\n",
    "1.87357e-14\n",
    "4.0026e-13\n",
    "2.89949e-12\n",
    "3.414e-12\n",
    "1.26826e-09\n",
    "8.63471e-09\n",
    "1.77763e-08\n",
    "2.98269e-08\n",
    "9.24851e-08\n",
    "9.04038e-10\n",
    "1.29e-06\n",
    "0.000366392\n",
    "0.0205958\n",
    "0.229404\n",
    "0.507961\n",
    "0.222054\n",
    "0.0192854\n",
    "0.000332082\n",
    "0\n",
    "0\n",
    "5.59336e-20\n",
    "4.44071e-19\n",
    "2.26394e-18\n",
    "3.79501e-18\n",
    "7.60888e-16\n",
    "4.10707e-14\n",
    "7.42615e-13\n",
    "7.70706e-12\n",
    "2.43609e-11\n",
    "1.87901e-10\n",
    "3.6318e-09\n",
    "1.63066e-08\n",
    "2.18939e-08\n",
    "2.75631e-08\n",
    "1.19254e-13\n",
    "8.614e-10\n",
    "1.24092e-06\n",
    "0.000355847\n",
    "0.0201958\n",
    "0.227203\n",
    "0.50814\n",
    "0.224407\n",
    "0.0196972\n",
    "0\n",
    "0\n",
    "4.94864e-20\n",
    "7.20011e-19\n",
    "1.09737e-17\n",
    "1.86028e-19\n",
    "1.23999e-16\n",
    "1.96666e-14\n",
    "7.51701e-13\n",
    "7.97023e-12\n",
    "3.76429e-11\n",
    "6.02089e-12\n",
    "4.33554e-10\n",
    "6.75212e-09\n",
    "2.34088e-08\n",
    "2.03897e-08\n",
    "3.84564e-18\n",
    "1.18026e-13\n",
    "8.62138e-10\n",
    "1.24688e-06\n",
    "0.000358927\n",
    "0.0204475\n",
    "0.230926\n",
    "0.518443\n",
    "0.229823\n",
    "0\n",
    "0\n",
    "2.84545e-20\n",
    "1.07027e-18\n",
    "1.54026e-17\n",
    "1.65732e-21\n",
    "3.92073e-18\n",
    "2.00689e-15\n",
    "2.24747e-13\n",
    "5.57083e-12\n",
    "3.29776e-11\n",
    "5.29523e-14\n",
    "1.37561e-11\n",
    "9.02098e-10\n",
    "1.2219e-08\n",
    "3.3563e-08\n",
    "4.00016e-22\n",
    "4.41995e-18\n",
    "1.52136e-13\n",
    "1.11449e-09\n",
    "1.61423e-06\n",
    "0.00046536\n",
    "0.0265485\n",
    "0.300165\n",
    "0.672819\n",
    "0\n",
    "0\n",
    "7.70181e-21\n",
    "7.81134e-19\n",
    "1.52295e-17\n",
    "4.29431e-24\n",
    "3.69947e-20\n",
    "7.29895e-17\n",
    "2.90886e-14\n",
    "2.2739e-12\n",
    "3.30813e-11\n",
    "4.07216e-16\n",
    "2.08133e-13\n",
    "5.99013e-11\n",
    "3.62182e-09\n",
    "4.17965e-08\n",
    "2.20372e-25\n",
    "6.51262e-22\n",
    "1.34516e-17\n",
    "4.88686e-13\n",
    "3.58241e-09\n",
    "5.19011e-06\n",
    "0.00149445\n",
    "0.0844473\n",
    "0.914053\n",
    "0\n",
    "0\n",
    "-nan\n",
    "-nan\n",
    "-nan\n",
    "-nan\n",
    "-nan\n",
    "-nan\n",
    "-nan\n",
    "-nan\n",
    "-nan\n",
    "-nan\n",
    "-nan\n",
    "-nan\n",
    "-nan\n",
    "-nan\n",
    "-nan\n",
    "-nan\n",
    "-nan\n",
    "-nan\n",
    "-nan\n",
    "-nan\n",
    "-nan\n",
    "-nan\n",
    "-nan\n",
    "-nan\n",
    "-nan\n",
    "-nan\n",
    "-nan\n",
    "-nan\n",
    "-nan\n",
    "-nan\n",
    "-nan\n",
    "-nan\n",
    "-nan\n",
    "-nan\n",
    "-nan\n",
    "-nan\n",
    "-nan\n",
    "-nan\n",
    "-nan\n",
    "-nan\n",
    "-nan\n",
    "-nan\n",
    "-nan\n",
    "-nan\n",
    "-nan\n",
    "-nan\n",
    "-nan\n",
    "-nan\n",
    "-nan\n",
    "-nan\n",
    "-nan\n",
    "-nan\n",
    "-nan\n",
    "-nan\n",
    "-nan\n",
    "-nan\n",
    "-nan\n",
    "-nan\n",
    "-nan\n",
    "-nan\n",
    "-nan\n",
    "-nan\n",
    "-nan\n",
    "-nan\n",
    "-nan\n",
    "-nan\n",
    "-nan\n",
    "-nan\n",
    "-nan\n",
    "-nan\n",
    "-nan\n",
    "-nan\n",
    "-nan\n",
    "-nan\n",
    "-nan\n",
    "```"
   ]
  },
  {
   "cell_type": "markdown",
   "metadata": {
    "editable": false
   },
   "source": [
    "<!--\n",
    "%%ulab_page_divider\n",
    "--><hr/>"
   ]
  },
  {
   "cell_type": "markdown",
   "metadata": {
    "editable": false,
    "ulab": {
     "buttons": {
      "ulab-button-91a81f48": {
       "bashCommand": "cd /home/workspace/markov/8-coding-the-full-filter/solution && g++ main.cpp  && ./a.out",
       "filesToOpen": [],
       "isPreviewButton": false,
       "runInBackground": false,
       "style": "primary",
       "text": "COMPILE & RUN",
       "toggleOffText": "HIDE SOLUTION",
       "toggleOnText": "SHOW SOLUTION"
      }
     }
    }
   },
   "source": [
    "## Solution: Coding the Full Filter\n",
    "\n",
    "To the right is one possible implementation of the full filter.\n",
    "\n",
    "You can compile and run the solution code with the button below, and see the results in the terminal.\n",
    "\n",
    "<button id=\"ulab-button-91a81f48\" class=\"ulab-btn--primary\"></button>"
   ]
  }
 ],
 "metadata": {
  "kernelspec": {
   "display_name": "Python 3",
   "language": "python",
   "name": "python3"
  },
  "language_info": {
   "codemirror_mode": {
    "name": "ipython",
    "version": 3
   },
   "file_extension": ".py",
   "mimetype": "text/x-python",
   "name": "python",
   "nbconvert_exporter": "python",
   "pygments_lexer": "ipython3",
   "version": "3.6.3"
  },
  "ulab_nb_type": "guided"
 },
 "nbformat": 4,
 "nbformat_minor": 4
}
